{
  "nbformat": 4,
  "nbformat_minor": 0,
  "metadata": {
    "colab": {
      "provenance": [],
      "authorship_tag": "ABX9TyMcsyRdmkY+TVnucdEzVcek",
      "include_colab_link": true
    },
    "kernelspec": {
      "name": "python3",
      "display_name": "Python 3"
    },
    "language_info": {
      "name": "python"
    }
  },
  "cells": [
    {
      "cell_type": "markdown",
      "metadata": {
        "id": "view-in-github",
        "colab_type": "text"
      },
      "source": [
        "<a href=\"https://colab.research.google.com/github/Corassini/Curso_deep_learning/blob/main/Exercicio_selecao.ipynb\" target=\"_parent\"><img src=\"https://colab.research.google.com/assets/colab-badge.svg\" alt=\"Open In Colab\"/></a>"
      ]
    },
    {
      "cell_type": "markdown",
      "source": [
        "### Abrindo o Arquivo CISI"
      ],
      "metadata": {
        "id": "V0cGQobEP7pK"
      }
    },
    {
      "cell_type": "code",
      "source": [
        "!tar xf cisi.tar.gz"
      ],
      "metadata": {
        "id": "_ZZBEf_lPhOx"
      },
      "execution_count": 3,
      "outputs": []
    },
    {
      "cell_type": "code",
      "source": [
        "!pwd"
      ],
      "metadata": {
        "colab": {
          "base_uri": "https://localhost:8080/"
        },
        "id": "wJ49lZlzQYFZ",
        "outputId": "c2570478-8c49-42b6-e57d-cb51297530fc"
      },
      "execution_count": 4,
      "outputs": [
        {
          "output_type": "stream",
          "name": "stdout",
          "text": [
            "/content\n"
          ]
        }
      ]
    },
    {
      "cell_type": "code",
      "source": [
        "!ls"
      ],
      "metadata": {
        "colab": {
          "base_uri": "https://localhost:8080/"
        },
        "id": "TTYdMB-SP2ag",
        "outputId": "715560e3-9620-44c8-d43b-8d904bafe425"
      },
      "execution_count": 5,
      "outputs": [
        {
          "output_type": "stream",
          "name": "stdout",
          "text": [
            "CISI.ALL  CISI.BLN  CISI.QRY  CISI.REL\tcisi.tar.gz  sample_data\n"
          ]
        }
      ]
    },
    {
      "cell_type": "markdown",
      "source": [
        "### Lendo os arquivos CISI e separando em diferentes variáveis"
      ],
      "metadata": {
        "id": "kw_drAT8R8rD"
      }
    },
    {
      "cell_type": "code",
      "source": [
        "from nltk.tokenize import word_tokenize\n",
        "from nltk.corpus import stopwords\n",
        "from nltk.stem import PorterStemmer\n",
        "from nltk.tokenize import RegexpTokenizer\n",
        "\n",
        "import nltk\n",
        "nltk.download('stopwords')\n",
        "nltk.download('punkt')\n",
        "\n",
        "\n",
        "stop_words = set(stopwords.words('english'))\n",
        "stemmer = PorterStemmer() \n",
        "tokenizer = RegexpTokenizer(r'\\w+')"
      ],
      "metadata": {
        "colab": {
          "base_uri": "https://localhost:8080/"
        },
        "id": "8p6K-E-cbWJ8",
        "outputId": "bc6775c3-bb12-44b4-d302-b48be01c3f27"
      },
      "execution_count": 6,
      "outputs": [
        {
          "output_type": "stream",
          "name": "stderr",
          "text": [
            "[nltk_data] Downloading package stopwords to /root/nltk_data...\n",
            "[nltk_data]   Unzipping corpora/stopwords.zip.\n",
            "[nltk_data] Downloading package punkt to /root/nltk_data...\n",
            "[nltk_data]   Unzipping tokenizers/punkt.zip.\n"
          ]
        }
      ]
    },
    {
      "cell_type": "code",
      "source": [
        "with open('/content/CISI.ALL','r') as f:\n",
        "    #reorganizando a entrada do arquivo .ALL\n",
        "    #agrupando as linhas que começam com ponto e removendo espaços\n",
        "    lines = \"\"\n",
        "    for l in f.readlines():\n",
        "        lines += \"\\n\" + l.strip() if l.startswith(\".\") else \" \" + l.strip()\n",
        "    lines = lines.lstrip(\"\\n\").split(\"\\n\")\n",
        "\n",
        "doc_set = {}\n",
        "doc_id = \"\"\n",
        "doc_text = \"\"\n",
        "\n",
        "# Se a linha começa com .I extraio o ID do documento para facilidar a analise posterior\n",
        "# Se a linha começa com .X é o resumo inteiro, atribuo no dicionario doc_set com o ID anterior\n",
        "for l in lines:\n",
        "    if l.startswith(\".I\"):\n",
        "        doc_id = l.split(\" \")[1].strip() \n",
        "    elif l.startswith(\".X\"):\n",
        "        doc_set[doc_id] = doc_text.lstrip(\" \")\n",
        "        doc_id = \"\"\n",
        "        doc_text = \"\"\n",
        "    else:\n",
        "        doc_text += l.strip()[3:] + \" \" \n",
        "\n",
        "#Criação de uma lista documents\n",
        "#tratamento de stemmer (radical), Stopwords e separa-las dentro da lista doc_token\n",
        "documents = []\n",
        "for key, value in doc_set.items():\n",
        "  documents.append(value)\n",
        "doc_token = []\n",
        "for item in documents:\n",
        "  doc_token.append([stemmer.stem(token) for token in tokenizer.tokenize(item.lower()) if token not in stop_words])"
      ],
      "metadata": {
        "id": "ISEYMHJ_3rcN"
      },
      "execution_count": 7,
      "outputs": []
    },
    {
      "cell_type": "code",
      "source": [
        "#Utilização da mesma arquitetura do .ALL\n",
        "# Dado que o Arquivo .QRY será as buscas feitas para encontrar os resumos do .ALL\n",
        "with open('/content/CISI.QRY', 'r') as f:\n",
        "    lines = \"\"\n",
        "    for l in f.readlines():\n",
        "        lines += \"\\n\" + l.strip() if l.startswith(\".\") else \" \" + l.strip()\n",
        "    lines = lines.lstrip(\"\\n\").split(\"\\n\")\n",
        "      \n",
        "qry_set = {}\n",
        "qry_id = \"\"\n",
        "for l in lines:\n",
        "    if l.startswith(\".I\"):\n",
        "        qry_id = l.split(\" \")[1].strip() \n",
        "    elif l.startswith(\".W\"):\n",
        "        qry_set[qry_id] = l.strip()[3:]\n",
        "        qry_id = \"\"\n",
        "\n",
        "\n",
        "queries = []\n",
        "for key, value in qry_set.items():\n",
        "  queries.append(value)\n",
        "queries_token = []\n",
        "for item in queries:\n",
        "  queries_token.append([stemmer.stem(token) for token in tokenizer.tokenize(item.lower()) if token not in stop_words])"
      ],
      "metadata": {
        "id": "iAzZarF7QZlO"
      },
      "execution_count": 9,
      "outputs": []
    },
    {
      "cell_type": "markdown",
      "source": [
        "### Implementando o BM25"
      ],
      "metadata": {
        "id": "RcQGgBFRYfen"
      }
    },
    {
      "cell_type": "code",
      "source": [
        "from gensim.summarization.bm25 import BM25\n",
        "from gensim.summarization.bm25 import get_bm25_weights"
      ],
      "metadata": {
        "id": "1WL_lSK4YfT5"
      },
      "execution_count": 10,
      "outputs": []
    },
    {
      "cell_type": "code",
      "source": [
        "#Utilização do BM25 - ChatGPT \n",
        "# Colocando o input como os documentos tratados acima\n",
        "model_bm25 = BM25(doc_token)"
      ],
      "metadata": {
        "id": "PTJhh7dMYeXG"
      },
      "execution_count": 11,
      "outputs": []
    },
    {
      "cell_type": "code",
      "source": [
        "#Calculando o IDF médio\n",
        "idf_values = model_bm25.idf.values()\n",
        "idf_sum = 0\n",
        "for value in idf_values:\n",
        "  idf_sum += value\n",
        "idf_mean = idf_sum / len(idf_values)"
      ],
      "metadata": {
        "id": "P__kjKZgddUa"
      },
      "execution_count": 12,
      "outputs": []
    },
    {
      "cell_type": "code",
      "source": [
        "# Calculando o score\n",
        "# Utilizando os queries_token tratados acima\n",
        "# Get_scores já faz o batimento das querys com os resumos\n",
        "scores = []\n",
        "for query in queries_token:\n",
        "  query_scores = model_bm25.get_scores(query,idf_mean)\n",
        "  scores.append(query_scores)"
      ],
      "metadata": {
        "id": "EFu64QWLYoFV"
      },
      "execution_count": 13,
      "outputs": []
    },
    {
      "cell_type": "code",
      "source": [
        "#Query a query trago os documentos por ordem reversa (do maior para o menor) do score calculado acima\n",
        "# Ou seja, trazer os resumos que são mais ligados àquela query\n",
        "for i, query in enumerate(queries_token):\n",
        "    ranked_documents = sorted(range(len(scores[i])), key=lambda j: scores[i][j], reverse=True)\n",
        "    print(\"Consulta: \", query)\n",
        "    print(\"Documentos mais relevantes: \", [k+1 for k in ranked_documents[:10]])"
      ],
      "metadata": {
        "id": "T-yQEvgydjkm",
        "colab": {
          "base_uri": "https://localhost:8080/"
        },
        "outputId": "09bf5037-a56b-498e-d035-d1c9a6399598"
      },
      "execution_count": 18,
      "outputs": [
        {
          "output_type": "stream",
          "name": "stdout",
          "text": [
            "Consulta:  ['problem', 'concern', 'make', 'descript', 'titl', 'difficulti', 'involv', 'automat', 'retriev', 'articl', 'approxim', 'titl', 'usual', 'relev', 'content', 'articl', 'titl']\n",
            "Documentos mais relevantes:  [429, 722, 1299, 759, 65, 76, 603, 38, 1421, 711]\n",
            "Consulta:  ['actual', 'pertin', 'data', 'oppos', 'refer', 'entir', 'articl', 'retriev', 'automat', 'respons', 'inform', 'request']\n",
            "Documentos mais relevantes:  [1138, 309, 420, 597, 797, 790, 488, 1071, 1327, 451]\n",
            "Consulta:  ['inform', 'scienc', 'give', 'definit', 'possibl']\n",
            "Documentos mais relevantes:  [1181, 540, 469, 1179, 1133, 1077, 1235, 914, 1277, 1142]\n",
            "Consulta:  ['imag', 'recognit', 'method', 'automat', 'transform', 'print', 'text', 'comput', 'readi', 'form']\n",
            "Documentos mais relevantes:  [179, 601, 420, 77, 790, 175, 565, 746, 72, 739]\n",
            "Consulta:  ['special', 'train', 'ordinari', 'research', 'businessmen', 'need', 'proper', 'inform', 'manag', 'unobstruct', 'use', 'inform', 'retriev', 'system', 'problem', 'like', 'encount']\n",
            "Documentos mais relevantes:  [560, 1105, 483, 648, 467, 862, 122, 541, 587, 1375]\n",
            "Consulta:  ['possibl', 'verbal', 'commun', 'comput', 'human', 'commun', 'via', 'spoken', 'word']\n",
            "Documentos mais relevantes:  [545, 1045, 1263, 312, 433, 400, 652, 386, 542, 79]\n",
            "Consulta:  ['describ', 'present', 'work', 'plan', 'system', 'publish', 'print', 'origin', 'paper', 'comput', 'save', 'byproduct', 'articl', 'code', 'data', 'process', 'form', 'use', 'retriev']\n",
            "Documentos mais relevantes:  [420, 507, 530, 748, 376, 446, 156, 1060, 206, 888]\n",
            "Consulta:  ['describ', 'inform', 'retriev', 'index', 'languag', 'bear', 'scienc', 'gener']\n",
            "Documentos mais relevantes:  [434, 1139, 1124, 530, 817, 159, 796, 480, 641, 477]\n",
            "Consulta:  ['possibl', 'automat', 'grammat', 'contextu', 'analysi', 'articl', 'inclus', 'inform', 'retriev', 'system']\n",
            "Documentos mais relevantes:  [571, 1120, 1294, 175, 1182, 565, 1327, 790, 71, 135]\n",
            "Consulta:  ['use', 'abstract', 'mathemat', 'inform', 'retriev', 'e', 'g', 'group', 'theori']\n",
            "Documentos mais relevantes:  [536, 1385, 315, 1224, 1244, 25, 1411, 229, 1054, 590]\n",
            "Consulta:  ['need', 'inform', 'consolid', 'evalu', 'retriev', 'scientif', 'research']\n",
            "Documentos mais relevantes:  [690, 965, 474, 525, 1089, 560, 575, 381, 771, 514]\n",
            "Consulta:  ['give', 'method', 'high', 'speed', 'public', 'print', 'distribut', 'scientif', 'journal']\n",
            "Documentos mais relevantes:  [686, 725, 1167, 1182, 1209, 552, 543, 748, 41, 1108]\n",
            "Consulta:  ['criteria', 'develop', 'object', 'evalu', 'inform', 'retriev', 'dissemin', 'system']\n",
            "Documentos mais relevantes:  [611, 565, 153, 137, 1098, 194, 658, 18, 731, 866]\n",
            "Consulta:  ['futur', 'automat', 'medic', 'diagnosi']\n",
            "Documentos mais relevantes:  [1294, 790, 72, 1144, 1388, 891, 661, 181, 220, 193]\n",
            "Consulta:  ['much', 'inform', 'retriev', 'dissemin', 'system', 'well', 'autom', 'librari', 'cost', 'worth', 'research', 'industri']\n",
            "Documentos mais relevantes:  [515, 255, 490, 591, 177, 979, 860, 17, 314, 1264]\n",
            "Consulta:  ['system', 'incorpor', 'multiprogram', 'remot', 'station', 'inform', 'retriev', 'extent', 'use', 'futur']\n",
            "Documentos mais relevantes:  [883, 1307, 379, 1258, 534, 630, 492, 1093, 529, 575]\n",
            "Consulta:  ['mean', 'obtain', 'larg', 'volum', 'high', 'speed', 'custom', 'usabl', 'inform', 'retriev', 'output']\n",
            "Documentos mais relevantes:  [252, 1404, 104, 520, 594, 608, 773, 967, 319, 739]\n",
            "Consulta:  ['method', 'encod', 'automat', 'match', 'automat', 'draw', 'structur', 'extend', 'two', 'dimens', 'like', 'structur', 'formula', 'chemic', 'compound']\n",
            "Documentos mais relevantes:  [668, 669, 1452, 671, 175, 1092, 705, 694, 715, 1261]\n",
            "Consulta:  ['techniqu', 'machin', 'match', 'machin', 'search', 'system', 'code', 'match', 'method']\n",
            "Documentos mais relevantes:  [527, 689, 179, 175, 252, 487, 810, 1327, 862, 419]\n",
            "Consulta:  ['test', 'autom', 'inform', 'system']\n",
            "Documentos mais relevantes:  [287, 336, 406, 180, 177, 990, 979, 916, 917, 849]\n",
            "Consulta:  ['need', 'provid', 'personnel', 'inform', 'field']\n",
            "Documentos mais relevantes:  [216, 339, 896, 1205, 1206, 1321, 475, 1015, 307, 186]\n",
            "Consulta:  ['autom', 'inform', 'medic', 'field']\n",
            "Documentos mais relevantes:  [917, 410, 216, 1114, 215, 1027, 986, 136, 336, 891]\n",
            "Consulta:  ['amount', 'use', 'book', 'librari', 'relat', 'need', 'autom', 'inform', 'system']\n",
            "Documentos mais relevantes:  [990, 1114, 11, 177, 406, 874, 979, 916, 917, 202]\n",
            "Consulta:  ['educ', 'train', 'requir', 'personnel', 'inform', 'field', 'possibl', 'train', 'need', 'program', 'provid', 'train']\n",
            "Documentos mais relevantes:  [924, 896, 1423, 934, 1166, 923, 648, 1325, 1403, 22]\n",
            "Consulta:  ['intern', 'system', 'exchang', 'dissemin', 'inform']\n",
            "Documentos mais relevantes:  [1284, 1435, 421, 440, 873, 1231, 1289, 323, 360, 482]\n",
            "Consulta:  ['cost', 'determin', 'cost', 'associ', 'system', 'autom', 'inform']\n",
            "Documentos mais relevantes:  [860, 979, 865, 281, 639, 974, 840, 299, 849, 468]\n",
            "Consulta:  ['computer', 'inform', 'retriev', 'system', 'computer', 'index', 'system']\n",
            "Documentos mais relevantes:  [1197, 680, 375, 876, 1078, 869, 1293, 727, 30, 798]\n",
            "Consulta:  ['computer', 'inform', 'system', 'field', 'relat', 'chemistri']\n",
            "Documentos mais relevantes:  [618, 116, 696, 1460, 641, 198, 156, 676, 1092, 1164]\n",
            "Consulta:  ['specif', 'advantag', 'computer', 'index', 'system']\n",
            "Documentos mais relevantes:  [869, 377, 773, 1419, 1197, 824, 1356, 715, 390, 512]\n",
            "Consulta:  ['inform', 'dissemin', 'journal', 'period']\n",
            "Documentos mais relevantes:  [112, 198, 1078, 1097, 905, 10, 225, 111, 18, 676]\n",
            "Consulta:  ['inform', 'system', 'physic', 'scienc']\n",
            "Documentos mais relevantes:  [1370, 1299, 1297, 85, 1428, 313, 535, 1208, 614, 1386]\n",
            "Consulta:  ['attempt', 'computer', 'mechan', 'system', 'gener', 'librari', 'problem', 'method', 'autom', 'gener', 'author', 'titl', 'index', 'system']\n",
            "Documentos mais relevantes:  [1421, 916, 52, 1118, 865, 336, 820, 849, 680, 17]\n",
            "Consulta:  ['retriev', 'system', 'provid', 'autom', 'transmiss', 'inform', 'user', 'distanc']\n",
            "Documentos mais relevantes:  [180, 1081, 519, 57, 336, 980, 1234, 1365, 492, 376]\n",
            "Consulta:  ['method', 'code', 'use', 'computer', 'index', 'system']\n",
            "Documentos mais relevantes:  [668, 34, 1199, 530, 675, 1391, 521, 680, 708, 527]\n",
            "Consulta:  ['govern', 'support', 'agenc', 'project', 'deal', 'inform', 'dissemin']\n",
            "Documentos mais relevantes:  [286, 385, 1207, 18, 375, 1362, 1145, 910, 130, 947]\n",
            "Consulta:  ['theori', 'practic', 'comput', 'translat', 'text', 'one', 'nation', 'languag', 'anoth', 'machin', 'translat', 'compet', 'tradit', 'method', 'translat', 'comprehend', 'nuanc', 'mean', 'languag', 'differ', 'structur']\n",
            "Documentos mais relevantes:  [1409, 1129, 320, 760, 1118, 1164, 1162, 1161, 174, 1382]\n",
            "Consulta:  ['list', 'word', 'use', 'index', 'classifi', 'materi', 'avail', 'want', 'list', 'term', 'descript', 'vocabulari', 'particular', 'field', 'schedul', 'word', 'relat', 'meaning', 'scheme', 'want', 'list', 'test', 'least', 'extent', 'found', 'use', 'organ', 'materi', 'retriev']\n",
            "Documentos mais relevantes:  [212, 79, 1152, 562, 1381, 688, 653, 680, 798, 531]\n",
            "Consulta:  ['access', 'word', 'inform', 'retriev', 'system', 'kept', 'date', 'word', 'mean', 'usag', 'often', 'chang', 'list', 'must', 'dynam', 'current', 'definit', 'problem', 'progress', 'toward', 'solut', 'made', 'provid', 'necessari', 'flexibl', 'system', 'subject', 'head', 'index', 'word', 'symbol', 'use', 'get', 'store', 'data']\n",
            "Documentos mais relevantes:  [1392, 1215, 212, 51, 315, 478, 567, 79, 329, 38]\n",
            "Consulta:  ['progress', 'inform', 'retriev', 'present', 'problem', 'maladjust', 'disloc', 'personnel', 'train', 'retrain', 'peopl', 'use', 'new', 'equip', 'import', 'level', 'librarian', 'assist', 'technician', 'student', 'research', 'even', 'execut', 'need', 'educ', 'learn', 'purpos', 'valu', 'use', 'inform', 'system', 'hardwar', 'program', 'develop', 'chang', 'attitud', 'skill', 'tradit', 'worker', 'help', 'learn', 'newer', 'techniqu']\n",
            "Documentos mais relevantes:  [896, 924, 946, 1349, 847, 612, 216, 1205, 1134, 1328]\n",
            "Consulta:  ['statu', 'machin', 'translat', 'progress', 'made', 'use', 'comput', 'transfer', 'one', 'languag', 'anoth', 'degre', 'autom', 'problem', 'stumbl', 'block', 'found', 'consid', 'insurmount', 'limit', 'challeng', 'field', 'document', 'intern', 'scale']\n",
            "Documentos mais relevantes:  [1027, 17, 769, 1226, 138, 796, 1256, 1280, 1118, 174]\n",
            "Consulta:  ['alphabet', 'order', 'materi', 'consid', 'use', 'tool', 'inform', 'retriev', 'studi', 'done', 'compar', 'effect', 'alphabet', 'order', 'organ', 'scheme', 'gener', 'accept', 'form', 'arrang', 'materi', 'alphabet', 'order', 'easi', 'way', 'achiev', 'form', 'without', 'go', 'great', 'amount', 'effort']\n",
            "Documentos mais relevantes:  [388, 798, 848, 62, 61, 872, 86, 1066, 326, 825]\n",
            "Consulta:  ['averag', 'student', 'research', 'difficulti', 'comprehend', 'vocabulari', 'inform', 'retriev', 'appear', 'import', 'new', 'field', 'understood', 'fulli', 'accept', 'basic', 'articl', 'would', 'provid', 'understand', 'variou', 'import', 'aspect', 'inform', 'storag', 'retriev']\n",
            "Documentos mais relevantes:  [1179, 459, 896, 953, 971, 254, 17, 138, 1259, 413]\n",
            "Consulta:  ['difficulti', 'encount', 'inform', 'retriev', 'system', 'often', 'less', 'relat', 'equip', 'use', 'failur', 'plan', 'adequ', 'document', 'analysi', 'index', 'machin', 'code', 'posit', 'programm', 'take', 'problem', 'write', 'way', 'equip', 'understand', 'articl', 'written', 'describ', 'research', 'maxim', 'effect', 'program']\n",
            "Documentos mais relevantes:  [477, 419, 1327, 27, 1431, 1444, 114, 1255, 722, 200]\n",
            "Consulta:  ['present', 'fifti', 'one', 'hundr', 'technic', 'journal', 'publish', 'averag', 'two', 'new', 'journal', 'appear', 'everi', 'day', 'mani', 'journal', 'publish', 'one', 'two', 'million', 'articl', 'appear', 'everi', 'year', 'attempt', 'made', 'cope', 'amount', 'scientif', 'technic', 'public', 'term', 'analysi', 'control', 'storag', 'retriev']\n",
            "Documentos mais relevantes:  [770, 1460, 986, 977, 691, 1335, 1167, 821, 588, 1210]\n",
            "Consulta:  ['look', 'inform', 'impact', 'autom', 'librari', 'signific', 'librari', 'gener', 'includ', 'increas', 'import', 'autom', 'view', 'prolifer', 'inform', 'today', 'autom', 'help', 'librari', 'cope', 'problem', 'autom', 'affect', 'librari', 'react', 'idea', 'autom']\n",
            "Documentos mais relevantes:  [177, 336, 406, 849, 916, 281, 11, 990, 178, 979]\n",
            "Consulta:  ['seek', 'inform', 'use', 'data', 'process', 'librari', 'mechan', 'routin', 'librari', 'process', 'procedur', 'would', 'like', 'descript', 'gener', 'specif', 'applic', 'autom', 'area', 'circul', 'catalog', 'acquisit', 'serial', 'record', 'record', 'keep', 'exampl', 'base', 'oper', 'convent', 'public', 'univers', 'librari', 'practic', 'special', 'librari', 'could', 'also', 'appli', 'public', 'univers', 'librari', 'give', 'descript', 'equip', 'oper', 'present', 'project']\n",
            "Documentos mais relevantes:  [374, 922, 888, 352, 178, 177, 1042, 64, 376, 11]\n",
            "Consulta:  ['establish', 'mean', 'present', 'intern', 'exchang', 'materi', 'inform', 'retriev', 'take', 'form', 'intern', 'agenc', 'center', 'regularli', 'distribut', 'inform', 'retriev', 'method', 'research', 'result', 'way', 'materi', 'cross', 'nation', 'boundari', 'seem', 'problem', 'block', 'better', 'intern', 'exchang', 'effort', 'made', 'solv', 'problem']\n",
            "Documentos mais relevantes:  [873, 130, 996, 1245, 12, 1256, 411, 1189, 1231, 1153]\n",
            "Consulta:  ['inform', 'retriev', 'still', 'new', 'experiment', 'field', 'line', 'distinguish', 'research', 'practic', 'often', 'difficult', 'even', 'imposs', 'draw', 'howev', 'actual', 'center', 'research', 'inform', 'retriev', 'countri', 'locat', 'support', 'govern', 'busi', 'univers', 'librari', 'inform', 'retriev', 'special', 'research', 'disciplin', 'said', 'emerg', 'still', 'amalgam', 'skill', 'field', 'mathemat', 'engin', 'librari', 'scienc', 'word', 'tell', 'inform', 'retriev', 'research']\n",
            "Documentos mais relevantes:  [257, 1045, 131, 381, 462, 116, 1242, 388, 1009, 375]\n",
            "Consulta:  ['resourc', 'spent', 'appli', 'inform', 'retriev', 'techniqu', 'physic', 'medic', 'scienc', 'inform', 'retriev', 'use', 'natur', 'scienc', 'social', 'scienc', 'human', 'problem', 'encount', 'subject', 'area', 'solv', 'characterist', 'subject', 'area', 'necessit', 'develop', 'new', 'inform', 'retriev', 'techniqu', 'prospct', 'futur', 'machin', 'control', 'area']\n",
            "Documentos mais relevantes:  [545, 1082, 496, 1067, 1273, 30, 866, 123, 577, 140]\n",
            "Consulta:  ['use', 'tradit', 'classif', 'scheme', 'ddc', 'udc', 'lc', 'etc', 'inform', 'retriev', 'system', 'scheme', 'appear', 'suit', 'machin', 'use', 'appli', 'classif', 'scheme', 'irrelev', 'research', 'shown', 'subject', 'classif', 'knowledg', 'complet', 'unnecessari', 'machin', 'system', 'new', 'scheme', 'devis', 'appear', 'suit', 'machin', 'use']\n",
            "Documentos mais relevantes:  [261, 838, 388, 1430, 989, 1442, 263, 1259, 746, 966]\n",
            "Consulta:  ['coordin', 'index', 'util', 'descriptor', 'control', 'languag', 'use', 'descriptor', 'construct', 'index', 'descriptor', 'use', 'search', 'inform', 'retriev', 'system']\n",
            "Documentos mais relevantes:  [1222, 1124, 1118, 1175, 1139, 1171, 1120, 478, 1448, 151]\n",
            "Consulta:  ['characterist', 'medlar', 'medic', 'literatur', 'analysi', 'retriev', 'system', 'project', 'undertaken', 'nation', 'librari', 'medicin', 'index', 'current', 'medic', 'journal', 'relat', 'index', 'system', 'index', 'medicu', 'major', 'compon', 'medlar', 'project', 'major', 'oper', 'detail']\n",
            "Documentos mais relevantes:  [986, 382, 586, 452, 194, 1055, 210, 547, 195, 883]\n",
            "Consulta:  ['comput', 'use', 'medic', 'scienc', 'diagnost', 'clinic', 'record', 'keep', 'purpos', 'program', 'autom', 'tri', 'hospit', 'result', 'problem', 'encount', 'use', 'autom', 'medicin', 'purpos', 'autom', 'system', 'clinic', 'record', 'use', 'possibl', 'use', 'comput', 'medicin']\n",
            "Documentos mais relevantes:  [1249, 177, 696, 865, 905, 916, 572, 180, 299, 970]\n",
            "Consulta:  ['effect', 'librarian', 'autom', 'note', 'new', 'type', 'technolog', 'use', 'librari', 'effect', 'statu', 'posit', 'function', 'librarian', 'chang', 'contempl', 'initi', 'introduc', 'autom', 'educ', 'librarian']\n",
            "Documentos mais relevantes:  [283, 916, 22, 392, 141, 1457, 177, 406, 136, 917]\n",
            "Consulta:  ['aim', 'object', 'medic', 'literatur', 'analysi', 'retriev', 'system', 'medlar', 'medlar', 'oper', 'possibl', 'applic', 'medlar', 'futur', 'inform', 'retriev', 'system']\n",
            "Documentos mais relevantes:  [382, 986, 883, 608, 452, 603, 806, 1051, 75, 526]\n",
            "Consulta:  ['standard', 'method', 'find', 'inform', 'today', 'librari', 'use', 'alphabet', 'arrang', 'card', 'catalog', 'classifi', 'catalog', 'base', 'classif', 'system', 'dc', 'lc', 'system', 'modifi', 'use', 'autom', 'inform', 'retriev']\n",
            "Documentos mais relevantes:  [998, 941, 798, 275, 299, 970, 209, 326, 872, 282]\n",
            "Consulta:  ['catalog', 'either', 'arrang', 'alphabet', 'arrang', 'classif', 'number', 'lc', 'entri', 'print', 'readabl', 'languag', 'ultim', 'import', 'individu', 'look', 'inform', 'definit', 'author', 'titl', 'subject', 'phrase', 'languag', 'probabl', 'english', 'case', 'mind', 'lc', 'entri', 'subject', 'head', 'use', 'manner', 'autom', 'system']\n",
            "Documentos mais relevantes:  [848, 1230, 480, 746, 326, 990, 1366, 1024, 1215, 1216]\n",
            "Consulta:  ['bibliograph', 'control', 'marc', 'review', 'capabl', 'key', 'onlin', 'system', 'brought', 'interdepend', 'among', 'librari', 'servic', 'center', 'mediat', 'larg', 'util', 'process', 'distribut', 'data', 'develop', 'basic', 'network', 'structur', 'among', 'librari', 'unit', 'state', 'independ', 'develop', 'major', 'network', 'brought', 'problem', 'standard', 'coordin', 'author', 'point', 'technolog', 'led', 'toward', 'central', 'autom', 'librari', 'servic', 'new', 'develop', 'push', 'toward', 'decentr', 'coordin', 'requir', 'avoid', 'fragment', 'new', 'environ']\n",
            "Documentos mais relevantes:  [884, 126, 140, 1011, 1043, 136, 885, 1416, 123, 376]\n",
            "Consulta:  ['retriev', 'perform', 'book', 'index', 'measur', 'term', 'abil', 'direct', 'user', 'select', 'text', 'materi', 'whose', 'ident', 'locat', 'known', 'method', 'requir', 'human', 'searcher', 'base', 'search', 'strategi', 'actual', 'passag', 'book', 'rather', 'test', 'queri', 'natur', 'contriv', 'circumv', 'need', 'relev', 'judgement', 'still', 'yield', 'perform', 'indic', 'correspond', 'approxim', 'recal', 'precis', 'ratio', 'larg', 'document', 'retriev', 'system', 'evalu', 'preliminari', 'applic', 'method', 'subject', 'index', 'two', 'major', 'encyclopedia', 'show', 'one', 'encyclopedia', 'appar', 'superior', 'find', 'discrimin', 'abil', 'retriev', 'perform', 'method', 'present', 'best', 'suit', 'compar', 'test', 'sinc', 'abil', 'yield', 'absolut', 'reproduc', 'measur', 'yet', 'establish']\n",
            "Documentos mais relevantes:  [492, 806, 523, 636, 894, 702, 486, 61, 603, 586]\n",
            "Consulta:  ['linkag', 'similar', 'measur', 'take', 'account', 'bibliograph', 'coupl', 'document', 'cocit', 'cite', 'cite', 'paper', 'produc', 'improv', 'document', 'retriev', 'measur', 'base', 'bibliograph', 'coupl', 'test', 'collect', 'consist', '1712', 'paper', 'whose', 'relev', 'specif', 'queri', 'judg', 'user', 'evalu', 'effect', 'use', 'cocit', 'data', 'calcul', 'queri', 'two', 'measur', 'similar', 'relev', 'paper', 'everi', 'paper', 'retriev', 'paper', 'sort', 'similar', 'measur', 'produc', 'two', 'order', 'list', 'compar', 'result', 'predict', 'relev', 'partial', 'relev', 'non', 'relev', 'user', 'evalu', 'paper', 'overal', 'chang', 'bibliograph', 'coupl', 'measur', 'linkag', 'similar', 'measur', 'repres', 'introduct', 'cocit', 'data', 'result', 'better', 'retriev', 'perform']\n",
            "Documentos mais relevantes:  [486, 523, 61, 956, 632, 492, 487, 806, 660, 754]\n",
            "Consulta:  ['way', 'individu', 'construct', 'modifi', 'search', 'queri', 'larg', 'interact', 'document', 'retriev', 'system', 'subject', 'systemat', 'bias', 'similar', 'demonstr', 'experi', 'judgement', 'uncertainti', 'bias', 'share', 'naiv', 'sophist', 'subject', 'caus', 'inquir', 'search', 'document', 'larg', 'interact', 'system', 'construct', 'modifi', 'queri', 'ineffici', 'search', 'algorithm', 'suggest', 'help', 'inquir', 'avoid', 'effect', 'bias']\n",
            "Documentos mais relevantes:  [606, 518, 579, 483, 165, 1327, 612, 451, 682, 175]\n",
            "Consulta:  ['articl', 'concern', 'problem', 'permit', 'patron', 'repres', 'rel', 'import', 'variou', 'index', 'term', 'boolean', 'request', 'retain', 'desir', 'properti', 'boolean', 'system', 'charact', 'classic', 'boolean', 'system', 'review', 'relat', 'notion', 'fuzzi', 'set', 'fuzzi', 'set', 'concept', 'form', 'basi', 'concept', 'fuzzi', 'request', 'weight', 'assign', 'index', 'term', 'ther', 'properti', 'system', 'discuss', 'shown', 'system', 'retain', 'manipul', 'tradit', 'boolean', 'request']\n",
            "Documentos mais relevantes:  [455, 464, 430, 810, 443, 745, 54, 81, 319, 773]\n",
            "Consulta:  ['commerci', 'avail', 'onlin', 'search', 'use', 'standard', 'compar', 'search', 'evalu', 'hous', 'inform', 'system', 'base', 'automat', 'index', 'system', 'featur', 'identifi', 'evalu', 'basi', 'use', 'variou', 'kind', 'search', 'eas', 'implement', 'influenc', 'differ', 'user', 'type', 'specif', 'applic', 'common', 'featur', 'commerci', 'system', 'onlin', 'instruct', 'user', 'specifi', 'print', 'format', 'dictionari', 'display', 'truncat', 'seen', 'unnecessari', 'impract', 'hous', 'system', 'design', 'hous', 'system', 'therefor', 'detald', 'consider', 'must', 'given', 'applic', 'oper', 'environ', 'real', 'user', 'need', 'commerci', 'system', 'serv', 'use', 'standard', 'compar', 'evalu', 'one', 'must', 'care', 'attempt', 'duplic', 'blindli', 'hous']\n",
            "Documentos mais relevantes:  [1375, 529, 309, 779, 1376, 593, 1211, 512, 594, 721]\n",
            "Consulta:  ['argu', 'inform', 'scienc', 'distinguish', 'physic', 'object', 'document', 'space', 'perspect', 'subject', 'inform', 'space', 'two', 'space', 'like', 'map', 'landscap', 'systemat', 'distort', 'howev', 'transform', 'easili', 'made', 'two', 'space', 'distinguish', 'transform', 'omit', 'get', 'unhelp', 'physic', 'solut', 'inform', 'problem']\n",
            "Documentos mais relevantes:  [1023, 1314, 541, 944, 977, 313, 1211, 1014, 746, 635]\n",
            "Consulta:  ['use', 'document', 'cluster', 'suggest', 'effici', 'file', 'organ', 'document', 'retriev', 'system', 'possibl', 'use', 'inform', 'relationship', 'document', 'effect', 'system', 'e', 'abil', 'distinguish', 'relev', 'non', 'relev', 'document', 'may', 'also', 'improv', 'paper', 'probabilist', 'model', 'cluster', 'search', 'base', 'queri', 'classif', 'describ', 'model', 'test', 'retriev', 'experi', 'indic', 'effect', 'heurist', 'cluster', 'search', 'cluster', 'search', 'base', 'model', 'also', 'effect', 'full', 'search', 'everi', 'document', 'compar', 'queri', 'effici', 'aspect', 'implement', 'model', 'discuss']\n",
            "Documentos mais relevantes:  [448, 509, 518, 483, 577, 487, 486, 566, 61, 576]\n",
            "Consulta:  ['current', 'onlin', 'librari', 'network', 'technolog', 'describ', 'includ', 'physic', 'function', 'aspect', 'network', 'three', 'type', 'network', 'distinguish', 'search', 'servic', 'e', 'g', 'sdc', 'lockhe', 'custom', 'servic', 'provid', 'bibliograph', 'file', 'e', 'g', 'oclc', 'inc', 'rlin', 'servic', 'center', 'e', 'g', 'nelinet', 'incolsa', 'predict', 'technolog', 'evolv', 'servic', 'provid', 'outsid', 'librari', 'directli', 'user', 'home', 'offic']\n",
            "Documentos mais relevantes:  [947, 1303, 218, 1367, 684, 885, 916, 375, 214, 1376]\n",
            "Consulta:  ['experiment', 'comput', 'program', 'develop', 'classifi', 'document', 'accord', '80', 'section', 'five', 'major', 'section', 'group', 'chemic', 'abstract', 'ca', 'program', 'use', 'pattern', 'recognit', 'techniqu', 'supplement', 'heurist', 'train', 'phase', 'word', 'pre', 'classifi', 'document', 'select', 'probabl', 'occurr', 'word', 'section', 'ca', 'comput', 'store', 'refer', 'dictionari', 'classif', 'phase', 'match', 'word', 'document', 'titl', 'dictionari', 'assign', 'section', 'number', 'document', 'use', 'weight', 'deriv', 'probabl', 'dictionari', 'heurist', 'techniqu', 'use', 'normal', 'word', 'variant', 'plural', 'past', 'tens', 'gerund', 'train', 'phase', 'classif', 'phase', 'dictionari', 'lookup', 'techniqu', 'supplement', 'analysi', 'chemic', 'nomenclatur', 'term', 'compon', 'word', 'root', 'influenc', 'section', 'document', 'assign', 'program', 'perform', 'human', 'consist', 'evalu', 'compar', 'program', 'result', 'publish', 'section', 'ca', 'conduct', 'experi', 'peopl', 'experienc', 'assign', 'document', 'ca', 'section', 'program', 'assign', 'approxim', '78', 'document', 'correct', 'major', 'section', 'group', 'ca', '67', 'correct', 'section', 'cross', 'refer', 'rate', '100', 'document', 'per', 'second']\n",
            "Documentos mais relevantes:  [830, 564, 677, 643, 671, 1124, 1248, 421, 820, 666]\n",
            "Consulta:  ['automat', 'classif', 'procedur', 'use', 'inform', 'retriev', 'deriv', 'cluster', 'document', 'intermedi', 'similar', 'matrix', 'comput', 'involv', 'compar', 'document', 'collect', 'other', 'recent', 'suggest', 'mani', 'comparison', 'specif', 'document', 'term', 'common', 'may', 'avoid', 'mean', 'uys', 'invert', 'file', 'document', 'collect', 'commun', 'show', 'approach', 'effect', 'reduct', 'number', 'interdocu', 'comparison', 'document', 'index', 'limit', 'number', 'index', 'term', 'exhaust', 'index', 'use', 'mani', 'document', 'pair', 'compar', 'sever', 'time', 'comput', 'greater', 'convent', 'approach', 'use', 'gener', 'similar', 'matrix']\n",
            "Documentos mais relevantes:  [570, 812, 562, 503, 660, 479, 446, 448, 608, 894]\n",
            "Consulta:  ['use', 'minicomput', 'variou', 'phase', 'creat', 'thesauru', 'nation', 'inform', 'center', 'special', 'educ', 'materi', 'nicsem', 'databas', 'describ', 'minicomput', 'use', 'collect', 'edit', 'correct', 'candid', 'thesauru', 'term', 'use', 'minicomput', 'eas', 'process', 'group', 'term', 'file', 'similar', 'concept', 'facilit', 'gener', 'product', 'use', 'vocabulari', 'review', 'term', 'structur', 'syndet', 'relat', 'indic', 'assign', 'code', 'identif', 'number', 'alter', 'easili', 'design', 'phase', 'reflect', 'restructur', 'requir', 'thesauru', 'term', 'alreadi', 'machin', 'readabl', 'form', 'simpl', 'prepar', 'print', 'program', 'provid', 'permut', 'alphabet', 'hierarch', 'chart', 'format', 'term', 'display', 'overal', 'use', 'minicomput', 'facilit', 'initi', 'thesauru', 'entri', 'develop', 'reduc', 'cleric', 'effort', 'editori', 'staff', 'decis', 'overal', 'process', 'time']\n",
            "Documentos mais relevantes:  [798, 739, 151, 501, 530, 511, 212, 1118, 1073, 390]\n",
            "Consulta:  ['decis', 'support', 'system', 'dss', 'repres', 'concept', 'role', 'comput', 'within', 'decis', 'make', 'process', 'term', 'becom', 'ralli', 'cri', 'research', 'practition', 'manag', 'concern', 'manag', 'scienc', 'manag', 'inform', 'system', 'field', 'becom', 'unnecessarili', 'narrow', 'focu', 'mani', 'ralli', 'cri', 'term', 'well', 'defin', 'writer', 'dss', 'simpli', 'mean', 'interact', 'system', 'use', 'manag', 'other', 'key', 'issu', 'support', 'rather', 'system', 'focu', 'understand', 'improv', 'decis', 'process', 'dss', 'design', 'use', 'avail', 'suitabl', 'technolog', 'research', 'view', 'dss', 'subfield', 'mi', 'other', 'regard', 'extens', 'manag', 'scienc', 'techniqu', 'former', 'defin', 'decis', 'support', 'provid', 'manag', 'access', 'data', 'latter', 'give', 'access', 'analyt', 'model', 'key', 'argument', 'paper', 'term', 'dss', 'relev', 'situat', 'final', 'system', 'develop', 'adapt', 'process', 'learn', 'evolut', 'design', 'strategi', 'must', 'focu', 'get', 'finish', 'differ', 'manag', 'scienc', 'data', 'process', 'approach', 'research', 'issu', 'dss', 'center', 'around', 'adapt', 'evolut', 'includ', 'manageri', 'learn', 'represent', 'task', 'user', 'behavior', 'design', 'architectur', 'strategi', 'get', 'start']\n",
            "Documentos mais relevantes:  [572, 1038, 948, 593, 151, 1040, 1402, 1183, 1015, 304]\n",
            "Consulta:  ['new', 'method', 'describ', 'extract', 'signific', 'phrase', 'titl', 'abstreact', 'scientif', 'technic', 'document', 'method', 'base', 'upon', 'text', 'structur', 'analysi', 'use', 'rel', 'small', 'dictionari', 'dictionari', 'construct', 'base', 'knowledg', 'concept', 'field', 'scienc', 'technolog', 'lexic', 'knowledg', 'signific', 'phrase', 'compon', 'item', 'may', 'use', 'differ', 'mean', 'among', 'field', 'text', 'analysiu', 'approach', 'appli', 'select', 'signific', 'phrase', 'substanti', 'semant', 'inform', 'carrier', 'content', 'abstract', 'result', 'experi', 'five', 'set', 'document', 'shown', 'signific', 'phrase', 'effect', 'extract', 'case', 'number', 'everi', 'document', 'process', 'time', 'fairli', 'satisfactori', 'inform', 'represent', 'document', 'partli', 'use', 'method', 'discuss', 'relat', 'construct', 'document', 'inform', 'retriev', 'system']\n",
            "Documentos mais relevantes:  [666, 499, 1124, 483, 448, 363, 1131, 1281, 820, 175]\n",
            "Consulta:  ['passag', 'retriev', 'alreadi', 'oper', 'lawyer', 'advantag', 'output', 'form', 'opver', 'refer', 'retriev', 'econom', 'feasibl', 'previou', 'experi', 'passag', 'retriev', 'scientist', 'demonstr', 'recal', 'fals', 'retriev', 'rate', 'good', 'better', 'present', 'refer', 'retriev', 'servic', 'present', 'experi', 'involv', 'greater', 'varieti', 'form', 'retriev', 'question', 'addit', 'search', 'word', 'select', 'independ', 'two', 'differ', 'peopl', 'retriev', 'question', 'search', 'word', 'select', 'combin', 'comput', 'procedur', 'use', 'passag', 'retriev', 'produc', 'averag', 'recal', 'ratio', '72', '67', 'respect', 'two', 'selector', 'fals', 'retriev', 'rate', 'except', 'one', 'predict', 'difficult', 'question', 'respect', '13', '10', 'fals', 'retriev', 'sentenc', 'per', 'answer', 'paper', 'retriev']\n",
            "Documentos mais relevantes:  [636, 68, 478, 487, 806, 603, 495, 71, 492, 595]\n",
            "Consulta:  ['paper', 'describ', 'practic', 'method', 'partial', 'match', 'retriev', 'larg', 'data', 'file', 'binari', 'code', 'word', 'call', 'descriptor', 'associ', 'record', 'file', 'record', 'descriptor', 'use', 'form', 'deriv', 'descriptor', 'block', 'sever', 'record', 'serv', 'index', 'block', 'whole', 'henc', 'name', 'index', 'descriptor', 'file', 'first', 'structur', 'file', 'describ', 'simpl', 'effici', 'retriev', 'algorithm', 'present', 'expect', 'behavior', 'term', 'storag', 'access', 'analyz', 'detail', 'two', 'differ', 'file', 'creation', 'procedur', 'sketch', 'number', 'way', 'file', 'organ', 'tune', 'particular', 'applic', 'suggest']\n",
            "Documentos mais relevantes:  [318, 1118, 1124, 737, 1197, 871, 1175, 1171, 876, 478]\n",
            "Consulta:  ['recenti', 'technolog', 'advanc', 'success', 'oclc', 'inc', 'led', 'emerg', 'three', 'addit', 'nonprofit', 'librari', 'network', 'research', 'librari', 'inform', 'network', 'rlin', 'research', 'librari', 'group', 'inc', 'univers', 'toronto', 'librari', 'autom', 'system', 'utla', 'washington', 'librari', 'network', 'wln', 'paper', 'examin', 'econom', 'technolog', 'factor', 'affect', 'evolut', 'network', 'also', 'explor', 'role', 'state', 'region', 'multist', 'network', 'broker', 'oclc', 'servic', 'competit', 'cooper', 'natur', 'network', 'relationship', 'major', 'theme', 'discuss']\n",
            "Documentos mais relevantes:  [211, 218, 947, 885, 119, 972, 654, 1146, 854, 1013]\n",
            "Consulta:  ['new', 'type', 'natur', 'languag', 'parser', 'present', 'idea', 'behind', 'parser', 'map', 'input', 'sentenc', 'deepest', 'form', 'represent', 'mean', 'infer', 'appropri', 'parser', 'distinct', 'entir', 'understand', 'system', 'use', 'integr', 'concept', 'infer', 'script', 'plan', 'knowledg', 'aid', 'pars', 'furthermor', 'attempt', 'pars', 'everyth', 'see', 'rather', 'determin', 'interest', 'concentr', 'ignor', 'rest']\n",
            "Documentos mais relevantes:  [1427, 68, 572, 317, 168, 1185, 310, 641, 477, 530]\n",
            "Consulta:  ['paper', 'discuss', 'origin', 'librari', 'network', 'trace', 'develop', 'unit', 'state', 'late', '1960', 'present', 'concept', 'resourc', 'share', 'particular', 'attent', 'inter', 'librari', 'loan', 'program', 'cooper', 'acquisit', 'storag', 'materi', 'examin', 'relationship', 'librari', 'network', 'particular', 'attent', 'given', 'question', 'two', 'major', 'compon', 'librari', 'cooper', 'tend', 'separ', 'might', 'becom', 'close', 'integr']\n",
            "Documentos mais relevantes:  [1011, 211, 983, 1236, 352, 11, 854, 992, 1247, 654]\n",
            "Consulta:  ['paper', 'present', 'method', 'normal', 'english', 'titl', 'retriev', 'titl', 'express', 'noun', 'phrase', 'noun', 'claus', 'convert', 'function', 'express', 'pars', 'retriev', 'reason', 'recal', 'rate', 'well', 'high', 'precis', 'rate', 'function', 'express', 'transform', 'predic', 'governor', 'form', 'normal', 'standard', 'form', 'therefrom', 'variou', 'item', 'extract', 'record', 'hierarch', 'tree', 'like', 'invert', 'file', 'order', 'keep', 'recal', 'rate', 'reason', 'valu', 'sever', 'retriev', 'stage', 'implement', 'base', 'key', 'term', 'case', 'label', 'match', 'retriev', 'control', 'precis', 'specif', 'case', 'label', 'key', 'term']\n",
            "Documentos mais relevantes:  [820, 894, 746, 492, 659, 1230, 603, 726, 702, 44]\n",
            "Consulta:  ['gener', 'notion', 'atn', 'grammar', 'call', 'cascad', 'atn', 'catn', 'prescrib', 'catn', 'permit', 'decomposit', 'complex', 'languag', 'understand', 'behavior', 'sequenc', 'cooper', 'atn', 'separ', 'domain', 'respons', 'stage', 'call', 'atn', 'transduc', 'take', 'input', 'output', 'previou', 'stage', 'paper', 'includ', 'extens', 'discjuss', 'principl', 'factor', 'conceptu', 'factor', 'reduc', 'number', 'place', 'given', 'fact', 'need', 'repres', 'grammar', 'hypothesi', 'factor', 'reduc', 'number', 'distinct', 'hypothes', 'consid', 'pars']\n",
            "Documentos mais relevantes:  [277, 397, 511, 445, 168, 1163, 761, 396, 61, 660]\n",
            "Consulta:  ['algorithm', 'given', 'process', 'partial', 'specifi', 'queri', 'compress', 'databas', 'system', 'propos', 'method', 'handl', 'effect', 'queri', 'use', 'either', 'whole', 'word', 'word', 'fragment', 'languag', 'element', 'method', 'compar', 'critic', 'evalu', 'term', 'design', 'retriev', 'cost', 'analys', 'show', 'method', 'exploit', 'interdepend', 'fragment', 'well', 'relev', 'fragment', 'record', 'file', 'maximum', 'design', 'cost', 'least', 'retriev', 'cost']\n",
            "Documentos mais relevantes:  [450, 706, 708, 487, 523, 680, 1366, 1124, 956, 615]\n",
            "Consulta:  ['detail', 'analysi', 'eight', 'previous', 'publish', 'mathemat', 'model', 'gener', 'formul', 'bradford', 'distribut', 'deduc', 'follow', 'log', 'x', 'c', 'b', 'ratio', 'cumul', 'frequenc', 'articl', 'total', 'number', 'articl', 'x', 'ratio', 'rank', 'journal', 'total', 'number', 'journal', 'paramet', 'b', 'c', 'slope', 'intercept', 'shift', 'straight', 'line', 'log', 'rank', 'respect', 'eight', 'model', 'special', 'case', 'gener', 'formul', 'one', 'five', 'type', 'formul', 'order', 'estim', 'three', 'unknown', 'paramet', 'statist', 'method', 'use', 'root', 'weight', 'squar', 'error', 'propos', 'compar', 'experi', 'use', '11', 'databas', 'suggest', 'fifth', 'type', 'formul', 'three', 'unknown', 'paramet', 'best', 'fit', 'observ', 'data', 'experi', 'show', 'delet', 'droop', 'data', 'lead', 'accur', 'valu', 'paramet', 'less', 'error']\n",
            "Documentos mais relevantes:  [759, 748, 778, 1090, 1416, 552, 765, 631, 649, 229]\n",
            "Consulta:  ['lexic', 'problem', 'larg', 'inform', 'system', 'creat', 'necess', 'handl', 'great', 'number', 'name', 'interrel', 'lexic', 'problem', 'cover', 'complet', 'concept', 'data', 'dictionari', 'mostli', 'concern', 'databas', 'scheme', 'design', 'rather', 'execut', 'oper', 'paper', 'introduc', 'view', 'lexic', 'subsystem', 'separ', 'compon', 'inform', 'system', 'architectur', 'deal', 'linguist', 'control', 'function', 'concern', 'lexic', 'problem', 'local', 'network', 'environ', 'lexic', 'suybsystem', 'special', 'effici', 'organ', 'program', 'packag', 'play', 'role', 'linguist', 'filter', 'broad', 'sens', 'lexic', 'incorrect', 'queri', 'promot', 'integr', 'databas', 'inform', 'retriev', 'system', 'facilit', 'creation', 'local', 'inform', 'system', 'hope', 'lexic', 'subsystem', 'becom', 'product', 'larg', 'especi', 'distribut', 'inform', 'system']\n",
            "Documentos mais relevantes:  [1323, 35, 175, 1171, 779, 179, 350, 1399, 884, 572]\n",
            "Consulta:  ['relat', 'model', 'receiv', 'increas', 'attent', 'past', 'decad', 'advantag', 'includ', 'simplic', 'consist', 'sound', 'theoret', 'basi', 'articl', 'natur', 'view', 'inform', 'retriev', 'relat', 'demonstr', 'relat', 'model', 'present', 'relat', 'organ', 'bibliograph', 'databas', 'shown', 'notion', 'normal', 'introduc', 'first', 'second', 'third', 'fourth', 'normal', 'form', 'demonstr', 'relat', 'languag', 'discuss', 'includ', 'relat', 'calculu', 'relat', 'algebra', 'sequel', 'numer', 'exampl', 'pertin', 'inform', 'retriev', 'present', 'relat', 'languag', 'advantag', 'relat', 'approach', 'inform', 'retriev', 'note']\n",
            "Documentos mais relevantes:  [310, 25, 804, 641, 805, 516, 478, 590, 464, 1175]\n",
            "Consulta:  ['paper', 'describ', 'architectur', 'approach', 'provid', 'inform', 'exchang', 'across', 'broad', 'spectrum', 'user', 'applic', 'offic', 'autom', 'offer', 'architectur', 'describ', 'herein', 'current', 'implement', 'exist', 'ibm', 'product', 'architectur', 'provid', 'basi', 'document', 'interchang', 'capabl', 'product', 'ibm', '5520', 'administr', 'system', 'ibm', 'system', '370', 'distribut', 'offic', 'support', 'system', 'disoss', 'ibm', 'displaywrit', 'system', 'specif', 'describ', 'document', 'distribut', 'architectur', 'associ', 'data', 'stream', 'other', 'gener', 'overview', 'architectur', 'oppos', 'detail', 'technic', 'descript', 'provid', 'architectur', 'describ', 'protocol', 'interchang', 'applic', 'process', 'address', 'specif', 'user', 'interfac', 'document', 'distribut', 'architectur', 'util', 'sna', 'data', 'transmiss', 'commun', 'control', 'facil']\n",
            "Documentos mais relevantes:  [350, 7, 1211, 617, 529, 703, 420, 834, 136, 309]\n",
            "Consulta:  ['techniqu', 'describ', 'automat', 'reformul', 'boolean', 'queri', 'base', 'patron', 'relev', 'judgement', 'initi', 'retriev', 'preval', 'measur', 'deriv', 'term', 'appear', 'retriev', 'set', 'document', 'reflect', 'term', 'distribut', 'among', 'relev', 'non', 'relev', 'document', 'measur', 'use', 'guid', 'construct', 'boolean', 'queri', 'subsequ', 'retriev', 'illustr', 'techniqu', 'seri', 'test', 'describ', 'applic', 'small', 'data', 'base', 'experiment', 'environ', 'result', 'compar', 'favour', 'feedback', 'employ', 'smart', 'type', 'system', 'extens', 'test', 'suggest', 'valid', 'techniqu']\n",
            "Documentos mais relevantes:  [523, 486, 810, 754, 603, 487, 448, 608, 492, 660]\n",
            "Consulta:  ['paper', 'intend', 'propos', 'new', 'methodolog', 'approach', 'concept', 'develop', 'natur', 'languag', 'understand', 'system', 'new', 'contribut', 'support', 'design', 'implement', 'experiment', 'donau', 'gener', 'purpos', 'domain', 'orient', 'natur', 'languag', 'understand', 'system', 'develop', 'present', 'run', 'milan', 'polytechn', 'artifici', 'intellig', 'project', 'system', 'base', 'two', 'level', 'modular', 'architectur', 'intend', 'overcom', 'lack', 'flexibl', 'gener', 'often', 'point', 'mani', 'exist', 'system', 'facilit', 'exchang', 'result', 'actual', 'experi', 'differ', 'project', 'horizont', 'level', 'allow', 'independ', 'parallel', 'develop', 'singl', 'segment', 'system', 'syntact', 'analys', 'inform', 'extractor', 'legal', 'control', 'vertic', 'level', 'ensur', 'possibl', 'chang', 'enlarg', 'redefin', 'definit', 'semant', 'domain', 'particular', 'version', 'system', 'orient', 'special', 'simpl', 'increment', 'user', 'orient', 'way', 'paper', 'gener', 'architectur', 'system', 'mode', 'oper', 'segment', 'illustr', 'detail', 'linguist', 'model', 'knowledg', 'represent', 'pars', 'algorithm', 'describ', 'illustr', 'mean', 'select', 'exampl', 'perform', 'evalu', 'system', 'applic', 'version', 'data', 'base', 'inquiri', 'report', 'discuss', 'promis', 'direct', 'futur', 'research', 'present', 'conclus']\n",
            "Documentos mais relevantes:  [1427, 595, 706, 317, 399, 637, 553, 512, 1416, 134]\n",
            "Consulta:  ['approxim', 'match', 'string', 'review', 'aim', 'survey', 'techniqu', 'suitabl', 'find', 'item', 'databas', 'may', 'spell', 'mistak', 'error', 'keyword', 'method', 'found', 'classifi', 'either', 'equival', 'similar', 'problem', 'equival', 'problem', 'seen', 'readili', 'solv', 'use', 'canon', 'form', 'similar', 'problem', 'differ', 'measur', 'survey', 'full', 'descript', 'well', 'establish', 'dynam', 'program', 'method', 'relat', 'approach', 'use', 'probabl', 'likelihood', 'search', 'approxim', 'match', 'larg', 'set', 'use', 'differ', 'function', 'seen', 'open', 'problem', 'still', 'though', 'sever', 'promis', 'idea', 'suggest', 'approxim', 'match', 'error', 'correct', 'pars', 'briefli', 'review']\n",
            "Documentos mais relevantes:  [862, 808, 1117, 419, 587, 820, 596, 425, 451, 1327]\n",
            "Consulta:  ['prototyp', 'system', 'creat', 'integr', 'microfich', 'catalog', 'onlin', 'comput', 'system', 'bibliograph', 'control', 'cost', 'oper', 'data', 'collect', 'analyz', 'system', 'permit', 'econom', 'microfich', 'storag', 'catalog', 'record', 'would', 'feasibl', 'compar', 'onlin', 'magnet', 'disk', 'storag', 'experiment', 'test', 'demonstr', 'feasibl', 'onlin', 'microfich', 'catalog', 'system', 'use', 'librari', 'technic', 'servic', 'retriev', 'bibliograph', 'data', 'primari', 'result', 'project', 'creation', 'complet', 'oper', 'facil', 'includ', 'equip', 'softwar', 'procedur', 'data', 'base', 'necessari', 'demonstr', 'system', 'second', 'set', 'result', 'deriv', 'experiment', 'use', 'system', 'evalu', 'cost', 'time', 'variou', 'oper', 'cost', 'effect', 'onlin', 'microfich', 'catalog', 'demonstr']\n",
            "Documentos mais relevantes:  [534, 892, 1252, 1043, 822, 880, 617, 897, 579, 993]\n",
            "Consulta:  ['question', 'ask', 'whether', 'feasibl', 'use', 'subset', 'natur', 'languag', 'queri', 'languag', 'data', 'base', 'actual', 'applic', 'use', 'question', 'answer', 'system', 'user', 'specialti', 'languag', 'usl', 'method', 'evalu', 'natur', 'languag', 'base', 'inform', 'system', 'discuss', 'result', 'error', 'languag', 'structur', 'evalu', 'suggest', 'form', 'gener', 'architectur', 'applic', 'system', 'use', 'subset', 'german', 'queri', 'languag']\n",
            "Documentos mais relevantes:  [317, 396, 637, 434, 1164, 1162, 755, 530, 1024, 19]\n",
            "Consulta:  ['1978', 'collier', 'present', 'hypothet', 'data', 'econom', 'aspect', 'use', 'onlin', 'servic', 'compar', 'subscript', 'print', 'servic', 'librari', 'collier', 'view', 'econom', 'onlin', 'search', 'seem', 'misleadingli', 'pessimist', '1', 'look', 'cost', 'effect', 'compar', 'two', 'mode', 'access', 'search', 'analysi', 'combin', 'cost', 'effect', 'aspect', 'e', 'cost', 'effect', 'analysi', 'would', 'give', 'complet', 'differ', 'pictur', '2', 'way', 'cost', 'data', 'present', 'grossli', 'unfair', 'onlin', 'mode', 'access', 'use', 'work', 'contain', 'correct', 'inform', 'regard', 'onlin', 'print', 'servic', 'librari']\n",
            "Documentos mais relevantes:  [591, 145, 579, 490, 534, 158, 842, 496, 1377, 629]\n",
            "Consulta:  ['mani', 'inform', 'scientist', 'concern', 'oper', 'document', 'retriev', 'system', 'serv', 'scientist', 'variou', 'field', 'scientist', 'serv', 'system', 'often', 'member', 'call', 'invis', 'colleg', 'group', 'scientist', 'frequent', 'commun', 'one', 'anoth', 'involv', 'highli', 'special', 'subject', 'matter', 'often', 'group', 'consid', 'share', 'intellectu', 'perspect', 'regard', 'subject', 'matter', 'sometim', 'refer', 'paradigm', 'purpos', 'paper', 'show', 'possibl', 'identifi', 'paradigm', 'use', 'techniqu', 'citat', 'analysi', 'operation', 'notion', 'paradigm', 'consensu', 'structur', 'concept', 'field', 'suppos', 'obtain', 'set', 'paper', 'pertain', 'topic', 'alreadi', 'know', 'someth', 'field', 'read', 'text', 'mark', 'passag', 'certain', 'specif', 'concept', 'use', 'discuss', 'exampl', 'might', 'find', 'concept', 'design', 'appear', 'sub', 'set', 'paper', 'suppos', 'identifi', 'paper', 'concept', 'b', 'use', 'togeth', 'paper', 'certain', 'specifi', 'manner', 'clearli', 'concept', 'combin', 'natur', 'way', 'author', 'combin', 'concept', 'b', 'way', 'though', 'predomin', 'mode', 'may', 'emerg', 'set', 'n', 'concept', 'structur', 'given', 'total', 'admiss', 'combin', 'concept', 'taken', 'two', 'n', 'time', 'frequenc', 'given', 'combin', 'occur', 'sampl', 'paper', 'topic', 'measur', 'degre', 'consensu', 'regard', 'particular', 'concept', 'combin', 'within', 'corpu', 'concept', 'taken', 'two', 'time', 'structur', 'display', 'graph', 'concept', 'node', 'relat', 'repres', 'line', 'arc', 'connect', 'node', 'definit', 'concept', 'structur', 'similar', 'semant', 'network', 'artifici', 'intellig', 'except', 'approach', 'measur', 'consensu', 'weight', 'arc', 'graph']\n",
            "Documentos mais relevantes:  [107, 838, 641, 1140, 478, 1291, 781, 1346, 53, 610]\n",
            "Consulta:  ['one', 'mode', 'onlin', 'retriev', 'scisearch', 'social', 'scisearch', 'involv', 'enter', 'pair', 'author', 'name', 'believ', 'jointli', 'cite', 'subsequ', 'writer', 'retriev', 'paper', 'cocit', 'occur', 'six', 'pair', 'form', 'name', 'four', 'author', 'promin', 'social', 'indic', 'movement', 'bauer', 'duncan', 'land', 'sheldon', 'document', 'four', 'specifi', 'thought', 'pair', 'duncan', 'land', 'would', 'retriev', 'paper', 'indic', 'type', 'data', 'would', 'integr', 'path', 'analyt', 'causal', 'model', 'pair', 'seem', 'like', 'retriev', 'gener', 'social', 'indic', 'literatur', '298', 'retriev', 'paper', 'confirm', 'expectatt', 'found', '121', 'paper', 'gener', 'cite', 'social', 'indic', 'si', 'document', 'input', 'author', 'frequent', 'si', 'languag', 'titl', 'sign', 'content', 'also', 'identifi', 'paper', 'si', 'movement', '177', 'paper', 'retriev', 'duncan', 'land', 'gener', 'cite', 'causal', 'model', 'document', 'input', 'pair', 'path', 'analyt', 'natur', 'expect', 'rel', 'harder', 'first', 'group', 'paper', 'although', 'two', 'group', 'akin', 'formal', 'link', 'citat', 'certain', 'paper', 'addit', 'result', 'paper', 'cite', 'least', 'three', 'input', 'author', 'tend', 'overview', 'si', 'movement']\n",
            "Documentos mais relevantes:  [613, 665, 1274, 632, 487, 26, 89, 788, 448, 1072]\n",
            "Consulta:  ['number', 'databas', 'record', 'contain', 'databas', 'onlin', 'use', 'databas', 'increas', 'dramat', 'past', 'sever', 'year', 'bring', '1979', 'total', 'bibliograph', 'bioliograph', 'relat', 'natur', 'languag', 'databas', '528', '528', 'databas', 'contain', '148', 'million', 'record', '4', 'million', 'onlin', 'search', 'conduct', 'via', 'major', 'u', 'canadian', 'system', '1979']\n",
            "Documentos mais relevantes:  [520, 726, 813, 507, 1197, 371, 380, 1415, 145, 871]\n",
            "Consulta:  ['method', 'iter', 'search', 'use', 'result', 'one', 'iter', 'search', 'formul', 'next', 'iter', 'search', 'appli', 'full', 'text', 'databas', 'consist', '2400', 'document', '1', '3000', '000', 'text', 'word', 'hebrew', 'arama', 'iter', 'method', 'consist', 'cluster', 'document', 'return', 'iter', 'use', 'weight', 'proxim', 'frequenc', 'simultan', 'process', 'produc', 'searchonym', 'term', 'synonym', 'keyword', 'context', 'singl', 'queri', 'augument', 'replac', 'keyword', 'searchonym', 'via', 'manual', 'automat', 'feedback', 'lead', 'formul', 'next', 'iter', 'search', 'result', 'experi', 'consist', 'earlier', 'small', 'scale', 'experi', 'english', 'databas', 'indic', 'contrast', 'global', 'cluster', 'size', 'matric', 'limit', 'applic', 'small', 'databas', 'improv', 'doubt', 'local', 'metric', 'method', 'appear', 'well', 'suit', 'arbitrarili', 'larg', 'databas', 'improv', 'precis', 'recal', 'simultan', 'experi', 'use', 'test', 'queri', 'run', 'even', 'larger', 'databas', 'made', 'collect', 'evid', 'perform', 'method']\n",
            "Documentos mais relevantes:  [520, 483, 726, 813, 448, 608, 43, 1124, 894, 79]\n",
            "Consulta:  ['refl', 'microcomput', 'base', 'system', 'data', 'retriev', 'librari', 'environ', 'problem', 'inform', 'retriev', 'discuss', 'theoret', 'point', 'view', 'follow', 'analysi', 'refer', 'process', 'data', 'therebi', 'gather', 'lead', 'descript', 'refl', 'term', 'hardwar', 'softwar', 'refl', 'prototyp', 'system', 'present', 'current', 'function', 'test', 'environ', 'exampl', 'data', 'contain', 'system', 'use', 'present', 'futur', 'consider', 'specul', 'version', 'system', 'conclud', 'paper']\n",
            "Documentos mais relevantes:  [528, 1375, 490, 531, 706, 376, 512, 129, 492, 644]\n",
            "Consulta:  ['major', 'defici', 'tradit', 'boolean', 'system', 'inabl', 'repres', 'vari', 'degre', 'document', 'may', 'written', 'subject', 'articl', 'isol', 'number', 'criteria', 'met', 'boolean', 'system', 'gener', 'weight', 'capabl', 'proven', 'one', 'weight', 'rule', 'satisfi', 'condit', 'associ', 'fuzzi', 'set', 'theori', 'weight', 'scheme', 'satisfi', 'properti', 'associ', 'boolean', 'algebra', 'well', 'probabilist', 'weight', 'introduc', 'altern', 'approach', 'two', 'system', 'compar', 'limit', 'zero', 'one', 'weight', 'system', 'consid', 'converg', 'tradit', 'boolean', 'retriev']\n",
            "Documentos mais relevantes:  [54, 531, 810, 739, 319, 446, 659, 824, 895, 1230]\n",
            "Consulta:  ['sever', 'paper', 'appear', 'analyz', 'recent', 'develop', 'problem', 'process', 'document', 'retriev', 'system', 'queri', 'express', 'boolean', 'express', 'purpos', 'paper', 'continu', 'analysi', 'shall', 'show', 'concept', 'threshold', 'valu', 'resolv', 'problem', 'inher', 'relev', 'weight', 'moreov', 'shall', 'explor', 'possibl', 'evalu', 'mechan', 'retriev', 'document', 'base', 'fuzzi', 'set', 'theoret', 'consider']\n",
            "Documentos mais relevantes:  [523, 575, 659, 486, 448, 644, 492, 1327, 810, 825]\n",
            "Consulta:  ['good', 'deal', 'work', 'inform', 'retriev', 'system', 'continu', 'weight', 'assign', 'index', 'term', 'describ', 'record', 'databas', 'queri', 'term', 'describ', 'user', 'queri', 'recent', 'articl', 'analyz', 'retriev', 'system', 'continu', 'weight', 'either', 'type', 'boolean', 'structur', 'queri', 'also', 'suggest', 'criteria', 'system', 'ought', 'satisfi', 'record', 'evalu', 'mechan', 'partial', 'satisfi', 'criteria', 'offer', 'care', 'analysi', 'base', 'gener', 'discret', 'weight', 'also', 'look', 'weight', 'entir', 'differ', 'approach', 'involv', 'threshold', 'gener', 'improv', 'evalu', 'mechan', 'seem', 'fulfil', 'larger', 'subset', 'desir', 'criteria', 'previou', 'mechan', 'new', 'mechan', 'allow', 'user', 'attach', 'threshold', 'queri', 'term']\n",
            "Documentos mais relevantes:  [77, 531, 448, 1415, 446, 659, 824, 486, 54, 706]\n",
            "Consulta:  ['onlin', 'retriev', 'system', 'may', 'difficult', 'use', 'especi', 'end', 'user', 'heterogen', 'complex', 'investig', 'concern', 'concept', 'translat', 'comput', 'interfac', 'mean', 'simplifi', 'access', 'oper', 'heterogen', 'bibliograph', 'retriev', 'system', 'databas', 'interfac', 'allow', 'user', 'make', 'request', 'common', 'languag', 'request', 'translat', 'interfac', 'appropri', 'command', 'whatev', 'system', 'interrog', 'system', 'respons', 'may', 'also', 'transform', 'interfac', 'common', 'form', 'given', 'user', 'thu', 'network', 'differ', 'system', 'made', 'look', 'like', 'singl', 'virtual', 'system', 'user', 'interfac', 'also', 'provid', 'instruct', 'search', 'aid', 'user', 'philosophi', 'design', 'implement', 'experiment', 'interfac', 'name', 'conit', 'describ']\n",
            "Documentos mais relevantes:  [451, 626, 594, 546, 648, 606, 124, 1013, 1368, 1367]\n",
            "Consulta:  ['evalu', 'concept', 'translat', 'compuyt', 'interfac', 'simplifi', 'oper', 'multipl', 'heterogen', 'onlin', 'bibliograph', 'retriev', 'system', 'undertaken', 'experiment', 'retriev', 'system', 'name', 'conit', 'built', 'test', 'control', 'condit', 'inexperienc', 'end', 'user', 'detail', 'analysi', 'experiment', 'usag', 'show', 'user', 'abl', 'master', 'interfac', 'oper', 'suffici', 'well', 'find', 'relev', 'document', 'refer', 'success', 'attribut', 'part', 'simpl', 'command', 'languag', 'adequ', 'onlin', 'instruct', 'simplifi', 'natur', 'languag', 'keyword', 'stem', 'approach', 'search', 'conclud', 'oper', 'interfac', 'type', 'studi', 'provid', 'increas', 'usabl', 'exist', 'system', 'cost', 'effect', 'manner', 'especi', 'searcher', 'furthermor', 'advanc', 'interfac', 'base', 'improv', 'instruct', 'autom', 'search', 'strategi', 'techniqu', 'could', 'enhanc', 'retriev', 'effect', 'wide', 'class', 'user']\n",
            "Documentos mais relevantes:  [626, 648, 579, 594, 1368, 546, 523, 728, 451, 625]\n",
            "Consulta:  ['paper', 'note', 'benefit', 'accru', 'interact', 'computer', 'retriev', 'system', 'micrograph', 'retriev', 'system', 'review', 'current', 'state', 'autom', 'micrograph', 'retriev', 'technolog', 'conclus', 'combin', 'advanc', 'commun', 'technolog', 'sophist', 'index', 'input', 'librari', 'inform', 'scientist', 'new', 'gener', 'autom', 'micrograph', 'devic', 'may', 'constitut', 'line', 'document', 'retriev', 'system', 'futur']\n",
            "Documentos mais relevantes:  [376, 375, 916, 1175, 180, 644, 131, 534, 136, 883]\n",
            "Consulta:  ['convent', 'inform', 'retriev', 'process', 'larg', 'base', 'data', 'movement', 'pointer', 'manipul', 'integ', 'arithmet', 'refin', 'retriev', 'algorithm', 'may', 'addit', 'benefit', 'substanti', 'comput', 'power', 'present', 'studi', 'number', 'parallel', 'process', 'method', 'describ', 'serv', 'enhanc', 'retriev', 'servic', 'convent', 'retriev', 'environ', 'parallel', 'list', 'process', 'parallel', 'search', 'facil', 'greatest', 'interest', 'advanc', 'system', 'use', 'array', 'processor', 'also', 'prove', 'benefici', 'variou', 'inform', 'retriev', 'process', 'examin', 'evid', 'given', 'demonstr', 'use', 'parallel', 'process', 'fast', 'comput', 'facil', 'inform', 'retriev']\n",
            "Documentos mais relevantes:  [1089, 309, 704, 375, 180, 378, 853, 608, 175, 1098]\n",
            "Consulta:  ['frequenc', 'characterist', 'term', 'document', 'collect', 'use', 'indic', 'term', 'import', 'content', 'analysi', 'index', 'purpos', 'particular', 'rare', 'frequent', 'term', 'normal', 'believ', 'less', 'effect', 'medium', 'frequenc', 'term', 'recent', 'automat', 'index', 'theori', 'devis', 'use', 'term', 'frequenc', 'characterist', 'also', 'relev', 'properti', 'term', 'major', 'term', 'weight', 'theori', 'first', 'briefli', 'review', 'term', 'precis', 'term', 'util', 'weight', 'base', 'occurr', 'characterist', 'term', 'relev', 'oppos', 'nonrelev', 'document', 'collect', 'introduc', 'method', 'suggest', 'estim', 'relev', 'properti', 'term', 'base', 'overal', 'occurr', 'characterist', 'collect', 'final', 'experiment', 'evalu', 'result', 'shown', 'compar', 'weight', 'system', 'use', 'term', 'relev', 'properti', 'convent', 'frequenc', 'base', 'methodolog']\n",
            "Documentos mais relevantes:  [824, 659, 812, 894, 531, 566, 446, 660, 329, 773]\n",
            "Consulta:  ['paper', 'describ', 'design', 'implement', 'electron', 'file', 'machin', 'machin', 'capabl', 'store', 'larg', 'number', 'unstructur', 'document', 'way', 'particular', 'document', 'may', 'easili', 'quickli', 'retriev', 'function', 'distribut', 'architectur', 'permit', 'implement', 'system', 'mixtur', 'hardwar', 'softwar']\n",
            "Documentos mais relevantes:  [659, 993, 1013, 737, 1136, 560, 947, 512, 797, 316]\n",
            "Consulta:  ['paper', 'tackl', 'problem', 'one', 'might', 'select', 'search', 'term', 'use', 'relev', 'feedback', 'given', 'search', 'term', 'queri', 'search', 'term', 'extract', 'maximum', 'span', 'tree', 'connect', 'term', 'index', 'term', 'vocabulari', 'number', 'differ', 'span', 'tree', 'gener', 'varieti', 'associ', 'measur', 'retriev', 'effect', 'differ', 'span', 'tree', 'shown', 'approxim', 'effect', 'measur', 'term', 'precis', 'recal', 'retriev', 'test', 'done', 'three', 'differ', 'test', 'collect']\n",
            "Documentos mais relevantes:  [894, 603, 486, 1230, 566, 149, 479, 562, 448, 660]\n",
            "Consulta:  ['index', 'qualiti', 'determin', 'whether', 'inform', 'content', 'index', 'document', 'accur', 'repres', 'index', 'effect', 'measur', 'whether', 'index', 'document', 'correctli', 'retriev', 'everi', 'time', 'relev', 'queri', 'measur', 'criteria', 'cumbersom', 'costli', 'data', 'base', 'produc', 'therefor', 'prefer', 'inter', 'index', 'consist', 'measur', 'index', 'qualiti', 'effect', 'present', 'articl', 'assess', 'valid', 'substitut', 'variou', 'environ']\n",
            "Documentos mais relevantes:  [486, 81, 82, 894, 566, 52, 472, 500, 1419, 523]\n",
            "Consulta:  ['set', 'experi', 'conduct', 'determin', 'suitabl', 'colon', 'classif', 'foundat', 'autom', 'analysi', 'represent', 'retriev', 'primari', 'inform', 'full', 'text', 'document', 'primari', 'inform', 'inform', 'embodi', 'text', 'document', 'oppos', 'secondari', 'inform', 'gener', 'form', 'abstract', 'tabl', 'content', 'index', 'full', 'text', 'databas', 'creat', 'two', 'subject', 'area', 'queri', 'solicit', 'specialist', 'area', 'autom', 'full', 'text', 'index', 'system', 'along', 'four', 'autom', 'passag', 'retriev', 'system', 'creat', 'test', 'variou', 'featur', 'colon', 'classif', 'two', 'boolean', 'base', 'system', 'one', 'simpl', 'word', 'occurr', 'system', 'creat', 'order', 'compar', 'retriev', 'result', 'type', 'system', 'common', 'use', 'system', 'retriev', 'perform', 'measur', 'use', 'recal', 'precis', 'mean', 'expect', 'search', 'length', 'reduct', 'factor', 'overal', 'found', 'colon', 'classif', 'base', 'system', 'perform', 'significantli', 'better', 'system']\n",
            "Documentos mais relevantes:  [523, 702, 61, 636, 1124, 807, 813, 492, 1195, 483]\n",
            "Consulta:  ['studi', 'carri', 'relationship', 'vocabulari', 'user', 'queri', 'vocabulari', 'document', 'relev', 'queri', 'valu', 'ad', 'document', 'descript', 'record', 'retriev', 'system', 'keyword', 'previou', 'queri', 'document', 'prove', 'use', 'two', 'test', 'databas', 'incorpor', 'user', 'queri', 'keyword', 'implement', 'school', 'librari', 'inform', 'scienc', 'univers', 'western', 'ontario', 'cluster', 'document', 'via', 'titl', 'user', 'keyword', 'statist', 'analysi', 'titl', 'user', 'keyword', 'co', 'occurr', 'retriev', 'test', 'use', 'examin', 'effect', 'ad', 'keyword', 'result', 'show', 'impract', 'procedur', 'oper', 'set', 'indic', 'valu', 'analys', 'sampl', 'data', 'develop', 'mainten', 'keyword', 'dictionari', 'thesauri']\n",
            "Documentos mais relevantes:  [86, 1118, 596, 1124, 448, 49, 486, 510, 79, 726]\n",
            "Consulta:  ['techniqu', 'onlin', 'instruct', 'assist', 'bibliograph', 'data', 'base', 'searcher', 'call', 'individu', 'instruct', 'data', 'access', 'iida', 'develop', 'drexel', 'univers', 'iida', 'assist', 'searcher', 'provid', 'feedback', 'base', 'real', 'time', 'analysi', 'search', 'perform', 'extens', 'help', 'facil', 'draw', 'analysi', 'avail', 'user', 'much', 'project', 'experiment', 'work', 'describ', 'elsewher', 'concern', 'process', 'search', 'behavior', 'searcher', 'paper', 'larg', 'address', 'project', 'comput', 'system', 'develop', 'subcontract', 'franklin', 'institut', 'scienc', 'inform', 'servic']\n",
            "Documentos mais relevantes:  [1207, 648, 579, 637, 78, 743, 1396, 512, 742, 502]\n",
            "Consulta:  ['shown', 'map', 'particular', 'area', 'scienc', 'case', 'inform', 'scienc', 'done', 'use', 'author', 'unit', 'analysi', 'cocit', 'pair', 'author', 'variabl', 'indic', 'distanc', 'analysi', 'assum', 'two', 'author', 'cite', 'togeth', 'closer', 'relationship', 'raw', 'data', 'cocit', 'count', 'drawn', 'onlin', 'social', 'scisearch', 'social', 'scienc', 'citat', 'index', 'period', '1972', '1979', 'gthe', 'result', 'map', 'show', '1', 'identifi', 'author', 'group', 'akin', 'school', 'inform', 'scienc', '2', 'locat', 'group', 'respect', '3', 'degre', 'central', 'peripher', 'author', 'within', 'group', '4', 'proxim', 'author', 'within', 'group', 'across', 'group', 'boundari', 'border', 'author', 'seem', 'connect', 'variou', 'area', 'research', '5', 'posit', 'author', 'respect', 'map', 'axe', 'arbitrarili', 'set', 'span', 'diverg', 'group', 'order', 'aid', 'interpret', 'cocit', 'analysi', 'author', 'offer', 'new', 'techniqu', 'might', 'contribut', 'understand', 'intellectu', 'structur', 'scienc', 'possibl', 'area', 'extent', 'area', 'reli', 'serial', 'public', 'techniqu', 'establish', 'author', 'well', 'document', 'effect', 'unit', 'analyz', 'subject', 'specialti']\n",
            "Documentos mais relevantes:  [635, 52, 1345, 1274, 89, 155, 729, 613, 105, 537]\n",
            "Consulta:  ['offic', 'futur', 'offic', 'technolog', 'word', 'process', 'electron', 'mail', 'electron', 'commun', 'converg', 'inform', 'manag', 'term', 'includ', 'current', 'list', 'buzz', 'word', 'use', 'describ', 'current', 'activ', 'offic', 'technolog', 'area', 'high', 'level', 'invest', 'factori', 'plant', 'ever', 'increas', 'fight', 'improv', 'product', 'autom', 'dull', 'routin', 'job', 'usual', 'quot', 'compar', 'extrem', 'low', 'invest', 'improv', 'autom', 'equal', 'tediou', 'routin', 'job', 'offic', 'environ', 'invest', 'factori', 'quot', 'ten', 'time', 'greater', 'per', 'employe', 'offic', 'howev', 'chang', 'rapidli', 'invest', 'larg', 'scale', 'alreadi', 'take', 'place', 'manhi', 'area', 'present', 'day', 'inflat', 'bite', 'hard', 'forc', 'mani', 'compani', 'organ', 'take', 'much', 'closer', 'look', 'offic', 'oper']\n",
            "Documentos mais relevantes:  [964, 304, 979, 406, 424, 151, 391, 400, 517, 178]\n",
            "Consulta:  ['autom', 'document', 'cluster', 'procedur', 'describ', 'requir', 'use', 'inter', 'document', 'similar', 'matrix', 'independ', 'order', 'document', 'process', 'procedur', 'make', 'use', 'initi', 'set', 'cluster', 'deriv', 'certain', 'term', 'index', 'vocabulari', 'use', 'characteris', 'document', 'file', 'retriev', 'effect', 'obtain', 'use', 'cluster', 'file', 'compar', 'obtain', 'serial', 'search', 'use', 'singl', 'linkag', 'cluster', 'method']\n",
            "Documentos mais relevantes:  [570, 448, 566, 485, 635, 509, 576, 422, 483, 309]\n",
            "Consulta:  ['fast', 'algorithm', 'describ', 'compar', 'list', 'term', 'repres', 'document', 'automat', 'classif', 'experi', 'speed', 'procedur', 'aris', 'fact', 'non', 'zero', 'valu', 'coefficic', 'given', 'document', 'identifi', 'togeth', 'use', 'invert', 'file', 'term', 'document', 'collect', 'complex', 'run', 'time', 'algorithm', 'compar', 'previous', 'describ', 'procedur']\n",
            "Documentos mais relevantes:  [503, 853, 1419, 659, 1132, 45, 483, 576, 596, 643]\n"
          ]
        }
      ]
    },
    {
      "cell_type": "markdown",
      "source": [
        "### Calculando a acurácia"
      ],
      "metadata": {
        "id": "wtDjCp2AdSDO"
      }
    },
    {
      "cell_type": "code",
      "source": [
        "#Criação de um dicionário (rel_set) trazendo quais documentos (.ALL) devem estar ligados à qual busca (.QRY)\n",
        "\n",
        "rel_set = {}\n",
        "with open('/content/CISI.REL', 'r') as f:\n",
        "    for l in f.readlines():\n",
        "        qry_id = l.lstrip(\" \").strip(\"\\n\").split(\"\\t\")[0].split(\" \")[0] \n",
        "        doc_id = l.lstrip(\" \").strip(\"\\n\").split(\"\\t\")[0].split(\" \")[-1]\n",
        "\n",
        "        if qry_id in rel_set:\n",
        "            rel_set[qry_id].append(doc_id)\n",
        "        else:\n",
        "            rel_set[qry_id] = []\n",
        "            rel_set[qry_id].append(doc_id)"
      ],
      "metadata": {
        "id": "nUE1FaaMqRsb"
      },
      "execution_count": 15,
      "outputs": []
    },
    {
      "cell_type": "code",
      "source": [
        "#Tratanndo o rel_set -- chamando de ground truth para fazer a compação da predição do modelo (model_return) com o que de fato deveria ser entregue\n",
        "model_return = []\n",
        "model_return.append('')\n",
        "ground_truth = []\n",
        "ground_truth.append('')\n",
        "\n",
        "for i, query in enumerate(queries_token):\n",
        "  ranked_documents = sorted(range(len(scores[i])), key=lambda j: scores[i][j], reverse=True)\n",
        "  if str(i+1) in rel_set:\n",
        "    model_return.append([k+1 for k in ranked_documents[:len(rel_set[str(i+1)])]])\n",
        "    ground_truth.append([int(k) for k in rel_set[str(i+1)]])\n",
        "  else:\n",
        "    model_return.append([])\n",
        "    ground_truth.append([])"
      ],
      "metadata": {
        "id": "46qP3ixPTQr5"
      },
      "execution_count": 16,
      "outputs": []
    },
    {
      "cell_type": "code",
      "source": [
        "# Trazendo a variável precision para saber quantos artigos foram acertados na busca\n",
        "# Há um tratamento de que o retorno o modelo scora e trás todos os artigos por ordem de score\n",
        "# Limitei a quantidade de artigos de volta pela quantidade que está no rel_set - dessa maneira se torna mais comparável - mas, ainda acredito que não seja a melhor forma\n",
        "\n",
        "precision_list = []\n",
        "for i in range(1,len(queries)+1):\n",
        "  acerto =0\n",
        "  for k in model_return[i]:\n",
        "    if k in ground_truth[i]:\n",
        "      acerto += 1\n",
        "  if ground_truth[i] != []:\n",
        "    precision_list.append(acerto/len(ground_truth[i]))\n",
        "  else:\n",
        "    # Colocando o -9 para as buscas que não deveriam de retornar nada\n",
        "    precision_list.append(-9)\n",
        "\n",
        "precision_final =0\n",
        "count = 0\n",
        "for i in range(len(precision_list)):\n",
        "  if precision_list[i] != -9:\n",
        "    precision_final +=precision_list[i]\n",
        "    count +=1\n",
        "\n",
        "precision_final_2 = precision_final/count\n",
        "print(precision_final_2)\n",
        "print( f\"Precisão final de: {precision_final_2}\")"
      ],
      "metadata": {
        "colab": {
          "base_uri": "https://localhost:8080/"
        },
        "id": "cvkw1VigUueb",
        "outputId": "e81d0dfe-40ca-4611-efbb-6c4031f56263"
      },
      "execution_count": 17,
      "outputs": [
        {
          "output_type": "stream",
          "name": "stdout",
          "text": [
            "0.2498303025107418\n",
            "Precisão final de: 0.2498303025107418\n"
          ]
        }
      ]
    },
    {
      "cell_type": "code",
      "source": [],
      "metadata": {
        "id": "s_Xmp2IsJ6pZ"
      },
      "execution_count": null,
      "outputs": []
    }
  ]
}